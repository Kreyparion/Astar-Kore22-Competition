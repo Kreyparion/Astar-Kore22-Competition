{
 "cells": [
  {
   "cell_type": "code",
   "execution_count": 5,
   "metadata": {},
   "outputs": [
    {
     "name": "stdout",
     "output_type": "stream",
     "text": [
      "kore_fleets 1.2.0\n"
     ]
    },
    {
     "ename": "KeyboardInterrupt",
     "evalue": "",
     "output_type": "error",
     "traceback": [
      "\u001b[0;31m---------------------------------------------------------------------------\u001b[0m",
      "\u001b[0;31mKeyboardInterrupt\u001b[0m                         Traceback (most recent call last)",
      "\u001b[1;32m/home/julcar99/Documents/AI_Projects/Kore22/src/main.ipynb Cell 1'\u001b[0m in \u001b[0;36m<cell line: 8>\u001b[0;34m()\u001b[0m\n\u001b[1;32m      <a href='vscode-notebook-cell:/home/julcar99/Documents/AI_Projects/Kore22/src/main.ipynb#ch0000000?line=4'>5</a>\u001b[0m env \u001b[39m=\u001b[39m make(\u001b[39m\"\u001b[39m\u001b[39mkore_fleets\u001b[39m\u001b[39m\"\u001b[39m, debug\u001b[39m=\u001b[39m\u001b[39mTrue\u001b[39;00m, configuration\u001b[39m=\u001b[39m{\u001b[39m\"\u001b[39m\u001b[39mseed\u001b[39m\u001b[39m\"\u001b[39m:\u001b[39m10\u001b[39m})\n\u001b[1;32m      <a href='vscode-notebook-cell:/home/julcar99/Documents/AI_Projects/Kore22/src/main.ipynb#ch0000000?line=5'>6</a>\u001b[0m \u001b[39mprint\u001b[39m(env\u001b[39m.\u001b[39mname, env\u001b[39m.\u001b[39mversion)\n\u001b[0;32m----> <a href='vscode-notebook-cell:/home/julcar99/Documents/AI_Projects/Kore22/src/main.ipynb#ch0000000?line=7'>8</a>\u001b[0m env\u001b[39m.\u001b[39;49mrun([agent])\n\u001b[1;32m      <a href='vscode-notebook-cell:/home/julcar99/Documents/AI_Projects/Kore22/src/main.ipynb#ch0000000?line=8'>9</a>\u001b[0m env\u001b[39m.\u001b[39mrender(mode\u001b[39m=\u001b[39m\u001b[39m\"\u001b[39m\u001b[39mipython\u001b[39m\u001b[39m\"\u001b[39m, width\u001b[39m=\u001b[39m\u001b[39m1000\u001b[39m, height\u001b[39m=\u001b[39m\u001b[39m800\u001b[39m)\n",
      "File \u001b[0;32m~/Documents/AI_Projects/Kore22/src/lib/core.py:267\u001b[0m, in \u001b[0;36mEnvironment.run\u001b[0;34m(self, agents)\u001b[0m\n\u001b[1;32m    <a href='file:///home/julcar99/Documents/AI_Projects/Kore22/src/lib/core.py?line=264'>265</a>\u001b[0m start \u001b[39m=\u001b[39m perf_counter()\n\u001b[1;32m    <a href='file:///home/julcar99/Documents/AI_Projects/Kore22/src/lib/core.py?line=265'>266</a>\u001b[0m \u001b[39mwhile\u001b[39;00m \u001b[39mnot\u001b[39;00m \u001b[39mself\u001b[39m\u001b[39m.\u001b[39mdone \u001b[39mand\u001b[39;00m perf_counter() \u001b[39m-\u001b[39m start \u001b[39m<\u001b[39m \u001b[39mself\u001b[39m\u001b[39m.\u001b[39mconfiguration\u001b[39m.\u001b[39mrunTimeout:\n\u001b[0;32m--> <a href='file:///home/julcar99/Documents/AI_Projects/Kore22/src/lib/core.py?line=266'>267</a>\u001b[0m     actions, logs \u001b[39m=\u001b[39m runner\u001b[39m.\u001b[39;49mact()\n\u001b[1;32m    <a href='file:///home/julcar99/Documents/AI_Projects/Kore22/src/lib/core.py?line=267'>268</a>\u001b[0m     \u001b[39mself\u001b[39m\u001b[39m.\u001b[39mstep(actions, logs)\n\u001b[1;32m    <a href='file:///home/julcar99/Documents/AI_Projects/Kore22/src/lib/core.py?line=268'>269</a>\u001b[0m \u001b[39mreturn\u001b[39;00m \u001b[39mself\u001b[39m\u001b[39m.\u001b[39msteps\n",
      "File \u001b[0;32m~/Documents/AI_Projects/Kore22/src/lib/core.py:687\u001b[0m, in \u001b[0;36mEnvironment.__agent_runner.<locals>.act\u001b[0;34m(none_action)\u001b[0m\n\u001b[1;32m    <a href='file:///home/julcar99/Documents/AI_Projects/Kore22/src/lib/core.py?line=684'>685</a>\u001b[0m     results \u001b[39m=\u001b[39m \u001b[39mself\u001b[39m\u001b[39m.\u001b[39mpool\u001b[39m.\u001b[39mmap(act_agent, act_args)\n\u001b[1;32m    <a href='file:///home/julcar99/Documents/AI_Projects/Kore22/src/lib/core.py?line=685'>686</a>\u001b[0m \u001b[39melse\u001b[39;00m:\n\u001b[0;32m--> <a href='file:///home/julcar99/Documents/AI_Projects/Kore22/src/lib/core.py?line=686'>687</a>\u001b[0m     results \u001b[39m=\u001b[39m \u001b[39mlist\u001b[39;49m(\u001b[39mmap\u001b[39;49m(act_agent, act_args))\n\u001b[1;32m    <a href='file:///home/julcar99/Documents/AI_Projects/Kore22/src/lib/core.py?line=688'>689</a>\u001b[0m \u001b[39m# results is a list of tuples where the first element is an agent action and the second is the agent log\u001b[39;00m\n\u001b[1;32m    <a href='file:///home/julcar99/Documents/AI_Projects/Kore22/src/lib/core.py?line=689'>690</a>\u001b[0m \u001b[39m# This destructures into two lists, a list of actions and a list of logs.\u001b[39;00m\n\u001b[1;32m    <a href='file:///home/julcar99/Documents/AI_Projects/Kore22/src/lib/core.py?line=690'>691</a>\u001b[0m actions, logs \u001b[39m=\u001b[39m \u001b[39mzip\u001b[39m(\u001b[39m*\u001b[39mresults)\n",
      "File \u001b[0;32m~/Documents/AI_Projects/Kore22/src/lib/core.py:118\u001b[0m, in \u001b[0;36mact_agent\u001b[0;34m(args)\u001b[0m\n\u001b[1;32m    <a href='file:///home/julcar99/Documents/AI_Projects/Kore22/src/lib/core.py?line=115'>116</a>\u001b[0m     \u001b[39mreturn\u001b[39;00m none_action, {}\n\u001b[1;32m    <a href='file:///home/julcar99/Documents/AI_Projects/Kore22/src/lib/core.py?line=116'>117</a>\u001b[0m \u001b[39melse\u001b[39;00m:\n\u001b[0;32m--> <a href='file:///home/julcar99/Documents/AI_Projects/Kore22/src/lib/core.py?line=117'>118</a>\u001b[0m     \u001b[39mreturn\u001b[39;00m agent\u001b[39m.\u001b[39;49mact(state[\u001b[39m\"\u001b[39;49m\u001b[39mobservation\u001b[39;49m\u001b[39m\"\u001b[39;49m])\n",
      "File \u001b[0;32m~/Documents/AI_Projects/Kore22/src/lib/agent.py:159\u001b[0m, in \u001b[0;36mAgent.act\u001b[0;34m(self, observation)\u001b[0m\n\u001b[1;32m    <a href='file:///home/julcar99/Documents/AI_Projects/Kore22/src/lib/agent.py?line=156'>157</a>\u001b[0m \u001b[39mtry\u001b[39;00m:\n\u001b[1;32m    <a href='file:///home/julcar99/Documents/AI_Projects/Kore22/src/lib/agent.py?line=157'>158</a>\u001b[0m     start \u001b[39m=\u001b[39m perf_counter()\n\u001b[0;32m--> <a href='file:///home/julcar99/Documents/AI_Projects/Kore22/src/lib/agent.py?line=158'>159</a>\u001b[0m     action \u001b[39m=\u001b[39m \u001b[39mself\u001b[39;49m\u001b[39m.\u001b[39;49magent(\u001b[39m*\u001b[39;49margs)\n\u001b[1;32m    <a href='file:///home/julcar99/Documents/AI_Projects/Kore22/src/lib/agent.py?line=159'>160</a>\u001b[0m \u001b[39mexcept\u001b[39;00m \u001b[39mException\u001b[39;00m \u001b[39mas\u001b[39;00m e:\n\u001b[1;32m    <a href='file:///home/julcar99/Documents/AI_Projects/Kore22/src/lib/agent.py?line=160'>161</a>\u001b[0m     traceback\u001b[39m.\u001b[39mprint_exc(file\u001b[39m=\u001b[39merr_buffer)\n",
      "File \u001b[0;32m~/Documents/AI_Projects/Kore22/src/main.py:1621\u001b[0m, in \u001b[0;36magent\u001b[0;34m(obs, config)\u001b[0m\n\u001b[1;32m   <a href='file:///home/julcar99/Documents/AI_Projects/Kore22/src/main.py?line=1618'>1619</a>\u001b[0m Normalize(space, size)\n\u001b[1;32m   <a href='file:///home/julcar99/Documents/AI_Projects/Kore22/src/main.py?line=1619'>1620</a>\u001b[0m ApplyDangerLevel(space)\n\u001b[0;32m-> <a href='file:///home/julcar99/Documents/AI_Projects/Kore22/src/main.py?line=1620'>1621</a>\u001b[0m ApplyGravity(space)\n\u001b[1;32m   <a href='file:///home/julcar99/Documents/AI_Projects/Kore22/src/main.py?line=1621'>1622</a>\u001b[0m Add_highways(space)\n\u001b[1;32m   <a href='file:///home/julcar99/Documents/AI_Projects/Kore22/src/main.py?line=1622'>1623</a>\u001b[0m logger\u001b[39m.\u001b[39minfo(\u001b[39m\"\u001b[39m\u001b[39mgravity added\u001b[39m\u001b[39m\"\u001b[39m)\n",
      "File \u001b[0;32m~/Documents/AI_Projects/Kore22/src/main.py:1130\u001b[0m, in \u001b[0;36mApplyGravity\u001b[0;34m(space)\u001b[0m\n\u001b[1;32m   <a href='file:///home/julcar99/Documents/AI_Projects/Kore22/src/main.py?line=1127'>1128</a>\u001b[0m         x \u001b[39m=\u001b[39m (i\u001b[39m-\u001b[39mk\u001b[39m+\u001b[39m\u001b[39mlen\u001b[39m(\u001b[39mfilter\u001b[39m)\u001b[39m/\u001b[39m\u001b[39m/\u001b[39m\u001b[39m2\u001b[39m)\u001b[39m%\u001b[39msize\n\u001b[1;32m   <a href='file:///home/julcar99/Documents/AI_Projects/Kore22/src/main.py?line=1128'>1129</a>\u001b[0m         y \u001b[39m=\u001b[39m (j\u001b[39m-\u001b[39ml\u001b[39m+\u001b[39m\u001b[39mlen\u001b[39m(\u001b[39mfilter\u001b[39m[\u001b[39m0\u001b[39m])\u001b[39m/\u001b[39m\u001b[39m/\u001b[39m\u001b[39m2\u001b[39m)\u001b[39m%\u001b[39msize\n\u001b[0;32m-> <a href='file:///home/julcar99/Documents/AI_Projects/Kore22/src/main.py?line=1129'>1130</a>\u001b[0m         \u001b[39msum\u001b[39m \u001b[39m+\u001b[39m\u001b[39m=\u001b[39m space\u001b[39m.\u001b[39mget_gravity_at_point(Point4d(Point(x,y),t,\u001b[39mNone\u001b[39;00m))\u001b[39m*\u001b[39m\u001b[39mfilter\u001b[39m[k][l]\n\u001b[1;32m   <a href='file:///home/julcar99/Documents/AI_Projects/Kore22/src/main.py?line=1130'>1131</a>\u001b[0m point \u001b[39m=\u001b[39m Point4d(Point(i,j),n,\u001b[39mNone\u001b[39;00m)\n\u001b[1;32m   <a href='file:///home/julcar99/Documents/AI_Projects/Kore22/src/main.py?line=1131'>1132</a>\u001b[0m space\u001b[39m.\u001b[39madd_gravity(point,(\u001b[39msum\u001b[39m \u001b[39m+\u001b[39m space\u001b[39m.\u001b[39mget_kore_at_point(point))\u001b[39m/\u001b[39m\u001b[39m10\u001b[39m)\n",
      "File \u001b[0;32m~/.local/lib/python3.8/site-packages/kaggle_environments/helpers.py:18\u001b[0m, in \u001b[0;36mPoint.__new__\u001b[0;34m(cls, x, y)\u001b[0m\n\u001b[1;32m     <a href='file:///home/julcar99/.local/lib/python3.8/site-packages/kaggle_environments/helpers.py?line=16'>17</a>\u001b[0m \u001b[39mdef\u001b[39;00m \u001b[39m__new__\u001b[39m(\u001b[39mcls\u001b[39m: Type[\u001b[39m'\u001b[39m\u001b[39mPoint\u001b[39m\u001b[39m'\u001b[39m], x: \u001b[39mint\u001b[39m, y: \u001b[39mint\u001b[39m):\n\u001b[0;32m---> <a href='file:///home/julcar99/.local/lib/python3.8/site-packages/kaggle_environments/helpers.py?line=17'>18</a>\u001b[0m     \u001b[39mreturn\u001b[39;00m \u001b[39msuper\u001b[39;49m(Point, \u001b[39mcls\u001b[39;49m)\u001b[39m.\u001b[39;49m\u001b[39m__new__\u001b[39;49m(\u001b[39mcls\u001b[39;49m, \u001b[39mtuple\u001b[39;49m((x, y)))\n",
      "\u001b[0;31mKeyboardInterrupt\u001b[0m: "
     ]
    }
   ],
   "source": [
    "from kaggle_environments import make\n",
    "from main import agent\n",
    "from balanced_agent import balanced_agent\n",
    "\n",
    "env = make(\"kore_fleets\", debug=True, configuration={\"seed\":10})\n",
    "print(env.name, env.version)\n",
    "\n",
    "env.run([agent])\n",
    "env.render(mode=\"ipython\", width=1000, height=800)"
   ]
  }
 ],
 "metadata": {
  "interpreter": {
   "hash": "916dbcbb3f70747c44a77c7bcd40155683ae19c65e1c03b4aa3499c5328201f1"
  },
  "kernelspec": {
   "display_name": "Python 3.8.10 64-bit",
   "language": "python",
   "name": "python3"
  },
  "language_info": {
   "codemirror_mode": {
    "name": "ipython",
    "version": 3
   },
   "file_extension": ".py",
   "mimetype": "text/x-python",
   "name": "python",
   "nbconvert_exporter": "python",
   "pygments_lexer": "ipython3",
   "version": "3.8.10"
  },
  "orig_nbformat": 4
 },
 "nbformat": 4,
 "nbformat_minor": 2
}
